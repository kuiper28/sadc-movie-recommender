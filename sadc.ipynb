{
  "nbformat": 4,
  "nbformat_minor": 0,
  "metadata": {
    "colab": {
      "name": "sadc",
      "provenance": [],
      "collapsed_sections": [],
      "toc_visible": true
    },
    "kernelspec": {
      "display_name": "Python 3",
      "name": "python3"
    }
  },
  "cells": [
    {
      "cell_type": "code",
      "metadata": {
        "id": "QmNxpy1xJyOC"
      },
      "source": [
        "import pandas as pd\n",
        "import numpy as np\n",
        "from sklearn.preprocessing import LabelEncoder\n",
        "from sklearn.ensemble import RandomForestRegressor\n",
        "import matplotlib.pyplot as plt\n",
        "import seaborn as sns\n",
        "import time, math\n",
        "from sklearn.decomposition import NMF\n",
        "from sklearn.metrics.pairwise import cosine_similarity"
      ],
      "execution_count": 197,
      "outputs": []
    },
    {
      "cell_type": "code",
      "metadata": {
        "colab": {
          "base_uri": "https://localhost:8080/"
        },
        "id": "Z4mDDBF0SS-1",
        "outputId": "4eb7d382-4095-4b9d-f4a0-88ec37748318"
      },
      "source": [
        "from google.colab import drive\n",
        "\n",
        "drive.mount('/content/gdrive')"
      ],
      "execution_count": 14,
      "outputs": [
        {
          "output_type": "stream",
          "name": "stdout",
          "text": [
            "Drive already mounted at /content/gdrive; to attempt to forcibly remount, call drive.mount(\"/content/gdrive\", force_remount=True).\n"
          ]
        }
      ]
    },
    {
      "cell_type": "code",
      "metadata": {
        "colab": {
          "base_uri": "https://localhost:8080/",
          "height": 199
        },
        "id": "_Kl0R678Tlvh",
        "outputId": "7177a1a1-9c67-41d1-f629-c18dcffda178"
      },
      "source": [
        "ratings_path = \"/content/gdrive/MyDrive/ml-1m/ratings.dat\"\n",
        "movie_path = \"/content/gdrive/MyDrive/ml-1m/movies.dat\"\n",
        "\n",
        "names = ['user_id', 'movie_id', 'rating', 'timestamp']\n",
        "ratings = pd.read_csv(my_path, sep='::', names=names)\n",
        "\n",
        "\n",
        "movies = pd.read_csv(movie_path, sep='::', header=None, usecols=[1])\n",
        "movies.columns = ['title']\n",
        "\n",
        "ratings.head()\n",
        "movies.iloc[[2,5]]"
      ],
      "execution_count": 206,
      "outputs": [
        {
          "output_type": "stream",
          "name": "stderr",
          "text": [
            "/usr/local/lib/python3.7/dist-packages/ipykernel_launcher.py:5: ParserWarning: Falling back to the 'python' engine because the 'c' engine does not support regex separators (separators > 1 char and different from '\\s+' are interpreted as regex); you can avoid this warning by specifying engine='python'.\n",
            "  \"\"\"\n",
            "/usr/local/lib/python3.7/dist-packages/ipykernel_launcher.py:8: ParserWarning: Falling back to the 'python' engine because the 'c' engine does not support regex separators (separators > 1 char and different from '\\s+' are interpreted as regex); you can avoid this warning by specifying engine='python'.\n",
            "  \n"
          ]
        },
        {
          "output_type": "execute_result",
          "data": {
            "text/html": [
              "<div>\n",
              "<style scoped>\n",
              "    .dataframe tbody tr th:only-of-type {\n",
              "        vertical-align: middle;\n",
              "    }\n",
              "\n",
              "    .dataframe tbody tr th {\n",
              "        vertical-align: top;\n",
              "    }\n",
              "\n",
              "    .dataframe thead th {\n",
              "        text-align: right;\n",
              "    }\n",
              "</style>\n",
              "<table border=\"1\" class=\"dataframe\">\n",
              "  <thead>\n",
              "    <tr style=\"text-align: right;\">\n",
              "      <th></th>\n",
              "      <th>title</th>\n",
              "    </tr>\n",
              "  </thead>\n",
              "  <tbody>\n",
              "    <tr>\n",
              "      <th>2</th>\n",
              "      <td>Grumpier Old Men (1995)</td>\n",
              "    </tr>\n",
              "    <tr>\n",
              "      <th>5</th>\n",
              "      <td>Heat (1995)</td>\n",
              "    </tr>\n",
              "  </tbody>\n",
              "</table>\n",
              "</div>"
            ],
            "text/plain": [
              "                     title\n",
              "2  Grumpier Old Men (1995)\n",
              "5              Heat (1995)"
            ]
          },
          "metadata": {},
          "execution_count": 206
        }
      ]
    },
    {
      "cell_type": "code",
      "metadata": {
        "colab": {
          "base_uri": "https://localhost:8080/",
          "height": 312
        },
        "id": "h5GC3qu2YHX9",
        "outputId": "3f1707f2-08c5-4bc5-df6c-2dbe094a2e73"
      },
      "source": [
        "from sklearn.preprocessing import scale\n",
        "\n",
        "ratings['rating'].hist(grid=True)\n",
        "plt.xlabel('Rating')\n",
        "plt.ylabel('Frequency')\n",
        "plt.title('Distribution of ratings')\n"
      ],
      "execution_count": 198,
      "outputs": [
        {
          "output_type": "execute_result",
          "data": {
            "text/plain": [
              "Text(0.5, 1.0, 'Distribution of ratings')"
            ]
          },
          "metadata": {},
          "execution_count": 198
        },
        {
          "output_type": "display_data",
          "data": {
            "image/png": "[encoded data removed]",
            "text/plain": [
              "<Figure size 432x288 with 1 Axes>"
            ]
          },
          "metadata": {
            "needs_background": "light"
          }
        }
      ]
    },
    {
      "cell_type": "code",
      "metadata": {
        "colab": {
          "base_uri": "https://localhost:8080/"
        },
        "id": "vN43v-iRYMJU",
        "outputId": "4893be15-20c0-4fc5-b938-fcfd6139a3d1"
      },
      "source": [
        "X = ratings[['user_id', 'movie_id']].values\n",
        "y = ratings['rating'].values\n",
        "print(X)\n",
        "print(y)"
      ],
      "execution_count": 204,
      "outputs": [
        {
          "output_type": "stream",
          "name": "stdout",
          "text": [
            "[[   1 1193]\n",
            " [   1  661]\n",
            " [   1  914]\n",
            " ...\n",
            " [6040  562]\n",
            " [6040 1096]\n",
            " [6040 1097]]\n",
            "[5 3 3 ... 5 4 4]\n"
          ]
        }
      ]
    },
    {
      "cell_type": "code",
      "metadata": {
        "colab": {
          "base_uri": "https://localhost:8080/"
        },
        "id": "u-YPrPHid7kR",
        "outputId": "977cfa67-1799-4658-edb3-60aa1c88e829"
      },
      "source": [
        "from scipy.sparse import csr_matrix\n",
        "def create_rating_matrix(X, y, dim):\n",
        "  r = X[:,0]\n",
        "  c = X[:,1]\n",
        "  matrix = sparse.csr_matrix((y, (r,c)), shape=(dim[0] + 1, dim[0] + 1))\n",
        "  M = matrix.todense()\n",
        "  M = M[1:,1:]\n",
        "  M = np.asarray(M)\n",
        "  return M\n",
        "\n",
        "# dim = (np.unique(np.array(X[:,0])).size, np.unique(np.array(X[:,1])).size)\n",
        "initial_rating_matrix = create_rating_matrix(X, y, (users, movies))\n",
        "print(initial_rating_matrix)\n",
        "\n"
      ],
      "execution_count": 203,
      "outputs": [
        {
          "output_type": "stream",
          "name": "stdout",
          "text": [
            "[[5 0 0 ... 0 0 0]\n",
            " [0 0 0 ... 0 0 0]\n",
            " [0 0 0 ... 0 0 0]\n",
            " ...\n",
            " [0 0 0 ... 0 0 0]\n",
            " [0 0 0 ... 0 0 0]\n",
            " [3 0 0 ... 0 0 0]]\n"
          ]
        }
      ]
    },
    {
      "cell_type": "code",
      "metadata": {
        "colab": {
          "base_uri": "https://localhost:8080/"
        },
        "id": "_B7fiYl2wnXO",
        "outputId": "5c04f396-4659-4688-e0b6-06c1081f287b"
      },
      "source": [
        "users = len(ratings['user_id'].unique())\n",
        "movies = len(ratings['movie_id'].unique())\n",
        "def train(predicted_rating_matrix, users, movies, X, y):\n",
        "  M = create_rating_matrix(X, y, (users, movies))\n",
        "  model = NMF(n_components=20, init='random', random_state=0, alpha = 0.01, l1_ratio = 0, max_iter = 15)\n",
        "  W = model.fit_transform(predicted_rating_matrix)\n",
        "  H = model.components_.T\n",
        "  P = H.dot(W.T).T            \n",
        "  P[P > 5] = 5.                   \n",
        "  P[P < 1] = 1.\n",
        "  return P, H\n",
        "\n",
        "initial_rating_matrix = create_rating_matrix(X, y, (users, movies))\n",
        "predicted_rating_matrix, _ = train(initial_rating_matrix, users, movies, X, y)\n",
        "\n",
        "print(predicted_rating_matrix[:10])"
      ],
      "execution_count": 202,
      "outputs": [
        {
          "output_type": "stream",
          "name": "stdout",
          "text": [
            "[[2.05846967 1.         1.         ... 1.         1.         1.        ]\n",
            " [1.76781615 1.         1.         ... 1.         1.         1.        ]\n",
            " [1.30000687 1.         1.         ... 1.         1.         1.        ]\n",
            " ...\n",
            " [1.72042436 1.         1.         ... 1.         1.         1.        ]\n",
            " [1.89550203 1.         1.         ... 1.         1.         1.        ]\n",
            " [5.         2.2559699  1.30109548 ... 1.         1.         1.        ]]\n"
          ]
        }
      ]
    },
    {
      "cell_type": "code",
      "metadata": {
        "colab": {
          "base_uri": "https://localhost:8080/"
        },
        "id": "L3qFREaZ6M1r",
        "outputId": "4e837660-49ee-4d9a-e01c-996dddcd1e38"
      },
      "source": [
        "initial_rating_matrix = create_rating_matrix(X, y, (users, movies))\n",
        "predicted_rating_matrix, _ = train(initial_rating_matrix, users, movies, X, y)\n",
        "\n",
        "\n",
        "def make_recommendation_for_an_existing_user(initial_rating_matrix, predicted_rating_matrix, movies, user_idx, k=5):\n",
        "    user_ratings = pd.DataFrame(initial_rating_matrix).iloc[user_idx, :]              \n",
        "    user_prediction = pd.DataFrame(predicted_rating_matrix).iloc[user_idx,:]\n",
        "    preferred_movies = np.flip(np.argsort(np.array(user_ratings))[-k:])\n",
        "    recommended_movies = np.flip(np.argsort(np.array(user_prediction))[-k:])\n",
        "\n",
        "    print(\"Preferred movies: \")\n",
        "    print(movies.iloc[preferred_movies])\n",
        "    print()\n",
        "    print(\"Recommended movies: \") \n",
        "    print(movies.iloc[recommended_movies])\n",
        "\n",
        "make_recommendation_for_an_existing_user(initial_rating_matrix, predicted_rating_matrix, movies, user_idx=10, k=5)"
      ],
      "execution_count": 208,
      "outputs": [
        {
          "output_type": "stream",
          "name": "stdout",
          "text": [
            "Preferred movies: \n",
            "                                          title\n",
            "2579                        Frankenstein (1931)\n",
            "1783                      Love Walked In (1998)\n",
            "592                            Pinocchio (1940)\n",
            "2108                         Family Plot (1976)\n",
            "763   Touki Bouki (Journey of the Hyena) (1973)\n",
            "\n",
            "Recommended movies: \n",
            "                             title\n",
            "295           Pushing Hands (1992)\n",
            "49      Usual Suspects, The (1995)\n",
            "607   Hellraiser: Bloodline (1996)\n",
            "2857              Hairspray (1988)\n",
            "1264         Big Sleep, The (1946)\n"
          ]
        }
      ]
    },
    {
      "cell_type": "code",
      "metadata": {
        "id": "FnXhyx9y-jAC"
      },
      "source": [
        ""
      ],
      "execution_count": 204,
      "outputs": []
    }
  ]
}